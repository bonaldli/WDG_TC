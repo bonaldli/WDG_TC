{
 "cells": [
  {
   "cell_type": "markdown",
   "id": "047d3d3a",
   "metadata": {},
   "source": [
    "# Quick Warm-up for Tensor\n",
    "\n",
    "This session will give you a quick warm-up about tensor. The contents here are re-designed from TensorLy: \n",
    "- Tensor Basics: Click [here](http://tensorly.org/stable/user_guide/tensor_basics.html) for more details.\n",
    "- Tensor Decomposition: Click [here](http://tensorly.org/stable/user_guide/tensor_decomposition.html) for more details.\n"
   ]
  },
  {
   "cell_type": "markdown",
   "id": "a498fa76",
   "metadata": {},
   "source": [
    "## 1. Creating a tensor\n",
    "A tensor is nothing more than a multi-dimensional array.\n",
    "Let’s take for this example the tensor $\\mathcal{X}$ defined by its frontal slices:"
   ]
  },
  {
   "cell_type": "code",
   "execution_count": 1,
   "id": "58ce413f",
   "metadata": {},
   "outputs": [],
   "source": [
    "# import important packages\n",
    "import numpy as np\n",
    "import tensorly as tl\n",
    "X = tl.tensor(np.arange(24).reshape((3, 4, 2)))"
   ]
  },
  {
   "cell_type": "code",
   "execution_count": 5,
   "id": "c6483d63",
   "metadata": {},
   "outputs": [
    {
     "data": {
      "text/plain": [
       "array([[ 0,  2,  4,  6],\n",
       "       [ 8, 10, 12, 14],\n",
       "       [16, 18, 20, 22]])"
      ]
     },
     "execution_count": 5,
     "metadata": {},
     "output_type": "execute_result"
    }
   ],
   "source": [
    "# look at the first slice of the tensor\n",
    "X[..., 0]"
   ]
  },
  {
   "cell_type": "code",
   "execution_count": 4,
   "id": "c6d89c24",
   "metadata": {},
   "outputs": [
    {
     "data": {
      "text/plain": [
       "array([[ 1,  3,  5,  7],\n",
       "       [ 9, 11, 13, 15],\n",
       "       [17, 19, 21, 23]])"
      ]
     },
     "execution_count": 4,
     "metadata": {},
     "output_type": "execute_result"
    }
   ],
   "source": [
    "# look at the second slice of the tensor\n",
    "X[..., 1]"
   ]
  },
  {
   "cell_type": "markdown",
   "id": "df1fe825",
   "metadata": {},
   "source": [
    "## 2. Unfolding"
   ]
  },
  {
   "cell_type": "code",
   "execution_count": 6,
   "id": "17e4ae0b",
   "metadata": {},
   "outputs": [],
   "source": [
    "from tensorly import unfold"
   ]
  },
  {
   "cell_type": "code",
   "execution_count": 7,
   "id": "3116637b",
   "metadata": {},
   "outputs": [
    {
     "data": {
      "text/plain": [
       "array([[ 0,  1,  2,  3,  4,  5,  6,  7],\n",
       "       [ 8,  9, 10, 11, 12, 13, 14, 15],\n",
       "       [16, 17, 18, 19, 20, 21, 22, 23]])"
      ]
     },
     "execution_count": 7,
     "metadata": {},
     "output_type": "execute_result"
    }
   ],
   "source": [
    "unfold(X, 0) # mode-1 unfolding"
   ]
  },
  {
   "cell_type": "code",
   "execution_count": 8,
   "id": "2b6006d1",
   "metadata": {},
   "outputs": [
    {
     "data": {
      "text/plain": [
       "array([[ 0,  1,  8,  9, 16, 17],\n",
       "       [ 2,  3, 10, 11, 18, 19],\n",
       "       [ 4,  5, 12, 13, 20, 21],\n",
       "       [ 6,  7, 14, 15, 22, 23]])"
      ]
     },
     "execution_count": 8,
     "metadata": {},
     "output_type": "execute_result"
    }
   ],
   "source": [
    "unfold(X, 1) # mode-2 unfolding"
   ]
  },
  {
   "cell_type": "code",
   "execution_count": 9,
   "id": "cdc8cfc6",
   "metadata": {},
   "outputs": [
    {
     "data": {
      "text/plain": [
       "array([[ 0,  2,  4,  6,  8, 10, 12, 14, 16, 18, 20, 22],\n",
       "       [ 1,  3,  5,  7,  9, 11, 13, 15, 17, 19, 21, 23]])"
      ]
     },
     "execution_count": 9,
     "metadata": {},
     "output_type": "execute_result"
    }
   ],
   "source": [
    "unfold(X, 2) # mode-3 unfolding"
   ]
  },
  {
   "cell_type": "markdown",
   "id": "4e5c9bb5",
   "metadata": {},
   "source": [
    "## 3. Tensor Decomposition"
   ]
  },
  {
   "cell_type": "markdown",
   "id": "04a3ca74",
   "metadata": {},
   "source": [
    "### 3.1 CP Decomposition\n",
    "\n",
    "Let's start with an easy 2-mode tensor, which is basically a matrix:"
   ]
  },
  {
   "cell_type": "code",
   "execution_count": 19,
   "id": "57dad050",
   "metadata": {},
   "outputs": [
    {
     "data": {
      "text/plain": [
       "(12, 12)"
      ]
     },
     "execution_count": 19,
     "metadata": {},
     "output_type": "execute_result"
    }
   ],
   "source": [
    "tensor = tl.tensor([[ 0.,  0.,  0.,  0.,  0.,  0.,  0.,  0.,  0.,  0.,  0.,  0.],\n",
    "                        [ 0.,  0.,  0.,  0.,  1.,  1.,  1.,  1.,  0.,  0.,  0.,  0.],\n",
    "                        [ 0.,  0.,  0.,  0.,  1.,  1.,  1.,  1.,  0.,  0.,  0.,  0.],\n",
    "                        [ 0.,  0.,  0.,  0.,  1.,  1.,  1.,  1.,  0.,  0.,  0.,  0.],\n",
    "                        [ 0.,  1.,  1.,  1.,  1.,  1.,  1.,  1.,  1.,  1.,  1.,  0.],\n",
    "                        [ 0.,  1.,  1.,  1.,  1.,  1.,  1.,  1.,  1.,  1.,  1.,  0.],\n",
    "                        [ 0.,  1.,  1.,  1.,  1.,  1.,  1.,  1.,  1.,  1.,  1.,  0.],\n",
    "                        [ 0.,  1.,  1.,  1.,  1.,  1.,  1.,  1.,  1.,  1.,  1.,  0.],\n",
    "                        [ 0.,  0.,  0.,  0.,  1.,  1.,  1.,  1.,  0.,  0.,  0.,  0.],\n",
    "                        [ 0.,  0.,  0.,  0.,  1.,  1.,  1.,  1.,  0.,  0.,  0.,  0.],\n",
    "                        [ 0.,  0.,  0.,  0.,  1.,  1.,  1.,  1.,  0.,  0.,  0.,  0.],\n",
    "                        [ 0.,  0.,  0.,  0.,  0.,  0.,  0.,  0.,  0.,  0.,  0.,  0.]])\n",
    "tensor.shape"
   ]
  },
  {
   "cell_type": "markdown",
   "id": "3037f35b",
   "metadata": {},
   "source": [
    "**Notes**: Below the rank is selected as 2. But always remember, one of the biggest challenge for tensor decomposition is to determine the tensor rank"
   ]
  },
  {
   "cell_type": "code",
   "execution_count": 22,
   "id": "ca39ae61",
   "metadata": {},
   "outputs": [
    {
     "data": {
      "text/plain": [
       "2"
      ]
     },
     "execution_count": 22,
     "metadata": {},
     "output_type": "execute_result"
    }
   ],
   "source": [
    "from tensorly.decomposition import parafac\n",
    "factors = parafac(tensor, rank=2) \n",
    "len(factors)"
   ]
  },
  {
   "cell_type": "markdown",
   "id": "e9f33134",
   "metadata": {},
   "source": [
    "The CP factor in Tensorly is in the format of list, with the following structure (updated at 22 Dec 2022):\n",
    "- `factor[0]`: array of the weights $\\lambda$\n",
    "- `factor[1]`: list of the mode matrices $\\mathbf{U}_1, \\dots, \\mathbf{U}_K$"
   ]
  },
  {
   "cell_type": "code",
   "execution_count": 36,
   "id": "38a7c395",
   "metadata": {},
   "outputs": [
    {
     "data": {
      "text/plain": [
       "(weights, factors) : rank-2 CPTensor of shape (12, 12) "
      ]
     },
     "execution_count": 36,
     "metadata": {},
     "output_type": "execute_result"
    }
   ],
   "source": [
    "factors"
   ]
  },
  {
   "cell_type": "code",
   "execution_count": 37,
   "id": "a63937e0",
   "metadata": {},
   "outputs": [
    {
     "data": {
      "text/plain": [
       "[(12, 2), (12, 2)]"
      ]
     },
     "execution_count": 37,
     "metadata": {},
     "output_type": "execute_result"
    }
   ],
   "source": [
    "[f.shape for f in factors[1]]"
   ]
  },
  {
   "cell_type": "markdown",
   "id": "3425488f",
   "metadata": {},
   "source": [
    "From this cp tensor (presented as a list of matrices) you can reconstruct a full tensor:"
   ]
  },
  {
   "cell_type": "code",
   "execution_count": 25,
   "id": "68ace9f0",
   "metadata": {},
   "outputs": [
    {
     "name": "stdout",
     "output_type": "stream",
     "text": [
      "[[0. 0. 0. 0. 0. 0. 0. 0. 0. 0. 0. 0.]\n",
      " [0. 0. 0. 0. 1. 1. 1. 1. 0. 0. 0. 0.]\n",
      " [0. 0. 0. 0. 1. 1. 1. 1. 0. 0. 0. 0.]\n",
      " [0. 0. 0. 0. 1. 1. 1. 1. 0. 0. 0. 0.]\n",
      " [0. 1. 1. 1. 1. 1. 1. 1. 1. 1. 1. 0.]\n",
      " [0. 1. 1. 1. 1. 1. 1. 1. 1. 1. 1. 0.]\n",
      " [0. 1. 1. 1. 1. 1. 1. 1. 1. 1. 1. 0.]\n",
      " [0. 1. 1. 1. 1. 1. 1. 1. 1. 1. 1. 0.]\n",
      " [0. 0. 0. 0. 1. 1. 1. 1. 0. 0. 0. 0.]\n",
      " [0. 0. 0. 0. 1. 1. 1. 1. 0. 0. 0. 0.]\n",
      " [0. 0. 0. 0. 1. 1. 1. 1. 0. 0. 0. 0.]\n",
      " [0. 0. 0. 0. 0. 0. 0. 0. 0. 0. 0. 0.]]\n"
     ]
    }
   ],
   "source": [
    "print(tl.cp_to_tensor(factors))"
   ]
  },
  {
   "cell_type": "markdown",
   "id": "197dcef5",
   "metadata": {},
   "source": [
    "### 3.2 Tucker Decomposition"
   ]
  },
  {
   "cell_type": "code",
   "execution_count": 38,
   "id": "1eba2ac4",
   "metadata": {},
   "outputs": [],
   "source": [
    "from tensorly.decomposition import tucker\n",
    "core, factors = tucker(tensor, rank=[2, 3])"
   ]
  },
  {
   "cell_type": "code",
   "execution_count": 39,
   "id": "0092048b",
   "metadata": {},
   "outputs": [
    {
     "data": {
      "text/plain": [
       "(2, 3)"
      ]
     },
     "execution_count": 39,
     "metadata": {},
     "output_type": "execute_result"
    }
   ],
   "source": [
    "core.shape"
   ]
  },
  {
   "cell_type": "code",
   "execution_count": 40,
   "id": "013c9d83",
   "metadata": {},
   "outputs": [
    {
     "data": {
      "text/plain": [
       "[array([[-0.00000000e+00,  4.16333634e-17],\n",
       "        [-2.27675853e-01, -3.38866305e-01],\n",
       "        [-2.27675853e-01, -3.38866305e-01],\n",
       "        [-2.27675853e-01, -3.38866305e-01],\n",
       "        [-4.15024769e-01,  2.78844833e-01],\n",
       "        [-4.15024769e-01,  2.78844833e-01],\n",
       "        [-4.15024769e-01,  2.78844833e-01],\n",
       "        [-4.15024769e-01,  2.78844833e-01],\n",
       "        [-2.27675853e-01, -3.38866305e-01],\n",
       "        [-2.27675853e-01, -3.38866305e-01],\n",
       "        [-2.27675853e-01, -3.38866305e-01],\n",
       "        [ 0.00000000e+00,  0.00000000e+00]]),\n",
       " array([[ 0.00000000e+00, -5.55111512e-17,  1.70051223e-01],\n",
       "        [ 2.27675853e-01, -3.38866305e-01, -3.77582862e-01],\n",
       "        [ 2.27675853e-01, -3.38866305e-01,  8.75516572e-01],\n",
       "        [ 2.27675853e-01, -3.38866305e-01, -1.24483428e-01],\n",
       "        [ 4.15024769e-01,  2.78844833e-01,  0.00000000e+00],\n",
       "        [ 4.15024769e-01,  2.78844833e-01,  0.00000000e+00],\n",
       "        [ 4.15024769e-01,  2.78844833e-01,  0.00000000e+00],\n",
       "        [ 4.15024769e-01,  2.78844833e-01,  0.00000000e+00],\n",
       "        [ 2.27675853e-01, -3.38866305e-01, -1.24483428e-01],\n",
       "        [ 2.27675853e-01, -3.38866305e-01, -1.24483428e-01],\n",
       "        [ 2.27675853e-01, -3.38866305e-01, -1.24483428e-01],\n",
       "        [ 0.00000000e+00,  0.00000000e+00,  0.00000000e+00]])]"
      ]
     },
     "execution_count": 40,
     "metadata": {},
     "output_type": "execute_result"
    }
   ],
   "source": [
    "factors"
   ]
  },
  {
   "cell_type": "code",
   "execution_count": 41,
   "id": "f3c907d7",
   "metadata": {},
   "outputs": [
    {
     "data": {
      "text/plain": [
       "[(12, 2), (12, 3)]"
      ]
     },
     "execution_count": 41,
     "metadata": {},
     "output_type": "execute_result"
    }
   ],
   "source": [
    "[f.shape for f in factors]"
   ]
  },
  {
   "cell_type": "markdown",
   "id": "4d9385f2",
   "metadata": {},
   "source": [
    "As before, we can reconstruct a full tensor from our Tucker decomposition:\n",
    "\n",
    "**Notes**: in the new `tucker_to_tensor` function, core and factors have to be input as a whole \\[core, factors\\]."
   ]
  },
  {
   "cell_type": "code",
   "execution_count": 45,
   "id": "b5fdbf66",
   "metadata": {},
   "outputs": [
    {
     "data": {
      "text/plain": [
       "array([[ 8.00005225e-33,  4.64369931e-17,  4.64369931e-17,\n",
       "         4.64369931e-17, -3.82118711e-17, -3.82118711e-17,\n",
       "        -3.82118711e-17, -3.82118711e-17,  4.64369931e-17,\n",
       "         4.64369931e-17,  4.64369931e-17,  0.00000000e+00],\n",
       "       [-6.29655996e-17,  2.33055848e-18, -5.40395971e-18,\n",
       "         7.68350307e-19,  1.00000000e+00,  1.00000000e+00,\n",
       "         1.00000000e+00,  1.00000000e+00,  7.68350307e-19,\n",
       "         7.68350307e-19,  7.68350307e-19,  0.00000000e+00],\n",
       "       [-6.29655996e-17,  2.33055848e-18, -5.40395971e-18,\n",
       "         7.68350307e-19,  1.00000000e+00,  1.00000000e+00,\n",
       "         1.00000000e+00,  1.00000000e+00,  7.68350307e-19,\n",
       "         7.68350307e-19,  7.68350307e-19,  0.00000000e+00],\n",
       "       [-6.29655996e-17,  2.33055848e-18, -5.40395971e-18,\n",
       "         7.68350307e-19,  1.00000000e+00,  1.00000000e+00,\n",
       "         1.00000000e+00,  1.00000000e+00,  7.68350307e-19,\n",
       "         7.68350307e-19,  7.68350307e-19,  0.00000000e+00],\n",
       "       [ 5.74991096e-17,  1.00000000e+00,  1.00000000e+00,\n",
       "         1.00000000e+00,  1.00000000e+00,  1.00000000e+00,\n",
       "         1.00000000e+00,  1.00000000e+00,  1.00000000e+00,\n",
       "         1.00000000e+00,  1.00000000e+00,  0.00000000e+00],\n",
       "       [ 5.74991096e-17,  1.00000000e+00,  1.00000000e+00,\n",
       "         1.00000000e+00,  1.00000000e+00,  1.00000000e+00,\n",
       "         1.00000000e+00,  1.00000000e+00,  1.00000000e+00,\n",
       "         1.00000000e+00,  1.00000000e+00,  0.00000000e+00],\n",
       "       [ 5.74991096e-17,  1.00000000e+00,  1.00000000e+00,\n",
       "         1.00000000e+00,  1.00000000e+00,  1.00000000e+00,\n",
       "         1.00000000e+00,  1.00000000e+00,  1.00000000e+00,\n",
       "         1.00000000e+00,  1.00000000e+00,  0.00000000e+00],\n",
       "       [ 5.74991096e-17,  1.00000000e+00,  1.00000000e+00,\n",
       "         1.00000000e+00,  1.00000000e+00,  1.00000000e+00,\n",
       "         1.00000000e+00,  1.00000000e+00,  1.00000000e+00,\n",
       "         1.00000000e+00,  1.00000000e+00,  0.00000000e+00],\n",
       "       [-6.29655996e-17,  2.33055848e-18, -5.40395971e-18,\n",
       "         7.68350307e-19,  1.00000000e+00,  1.00000000e+00,\n",
       "         1.00000000e+00,  1.00000000e+00,  7.68350307e-19,\n",
       "         7.68350307e-19,  7.68350307e-19,  0.00000000e+00],\n",
       "       [-6.29655996e-17,  2.33055848e-18, -5.40395971e-18,\n",
       "         7.68350307e-19,  1.00000000e+00,  1.00000000e+00,\n",
       "         1.00000000e+00,  1.00000000e+00,  7.68350307e-19,\n",
       "         7.68350307e-19,  7.68350307e-19,  0.00000000e+00],\n",
       "       [-6.29655996e-17,  2.33055848e-18, -5.40395971e-18,\n",
       "         7.68350307e-19,  1.00000000e+00,  1.00000000e+00,\n",
       "         1.00000000e+00,  1.00000000e+00,  7.68350307e-19,\n",
       "         7.68350307e-19,  7.68350307e-19,  0.00000000e+00],\n",
       "       [ 0.00000000e+00,  0.00000000e+00,  0.00000000e+00,\n",
       "         0.00000000e+00,  0.00000000e+00,  0.00000000e+00,\n",
       "         0.00000000e+00,  0.00000000e+00,  0.00000000e+00,\n",
       "         0.00000000e+00,  0.00000000e+00,  0.00000000e+00]])"
      ]
     },
     "execution_count": 45,
     "metadata": {},
     "output_type": "execute_result"
    }
   ],
   "source": [
    "from tensorly import tucker_to_tensor\n",
    "tucker_to_tensor([core, factors])"
   ]
  }
 ],
 "metadata": {
  "kernelspec": {
   "display_name": "Python 3 (ipykernel)",
   "language": "python",
   "name": "python3"
  },
  "language_info": {
   "codemirror_mode": {
    "name": "ipython",
    "version": 3
   },
   "file_extension": ".py",
   "mimetype": "text/x-python",
   "name": "python",
   "nbconvert_exporter": "python",
   "pygments_lexer": "ipython3",
   "version": "3.9.12"
  }
 },
 "nbformat": 4,
 "nbformat_minor": 5
}
